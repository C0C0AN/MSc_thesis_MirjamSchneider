{
 "cells": [
  {
   "cell_type": "markdown",
   "metadata": {},
   "source": [
    "# preprocessing workflow \n",
    "for fMRI-data in the project 'Nothing compares to you'\n",
    "\n"
   ]
  },
  {
   "cell_type": "markdown",
   "metadata": {},
   "source": [
    "## Literature\n",
    "Peers example:\n",
    "- segmentation in freeSurfer, coregister, realignment, artefact detection, smoothing, different masks using binaries\n",
    "- no slice-time correction due to short TR, no normalization, no smoothing?\n",
    "\n",
    "Casey et al. 2012\n",
    "- AFNI: slice time correction, motion correction, despiking, artefact detection (head motion & linear trend)\n",
    "\n",
    "Güclü et al.\n",
    "- realignment to frist scan of the first run and next to the mean scan\n",
    "- coregistration: anat to func mean\n",
    "- slice-time correction\n",
    "- normalization to mni"
   ]
  },
  {
   "cell_type": "markdown",
   "metadata": {},
   "source": [
    "## Settings"
   ]
  },
  {
   "cell_type": "code",
   "execution_count": 1,
   "metadata": {},
   "outputs": [
    {
     "name": "stderr",
     "output_type": "stream",
     "text": [
      "/home/mirjam/anaconda3/lib/python3.6/site-packages/h5py/__init__.py:36: FutureWarning: Conversion of the second argument of issubdtype from `float` to `np.floating` is deprecated. In future, it will be treated as `np.float64 == np.dtype(float).type`.\n",
      "  from ._conv import register_converters as _register_converters\n"
     ]
    }
   ],
   "source": [
    "# import modules\n",
    "from os.path import join as opj\n",
    "import os\n",
    "from nipype.interfaces.freesurfer import (BBRegister, ApplyVolTransform,\n",
    "                                          Binarize, RobustRegister, MRIConvert, FSCommand)\n",
    "from nipype.interfaces.fsl import BET, BinaryMaths, ImageMaths, FLIRT, ConvertXFM\n",
    "from nipype.interfaces.utility import Function, IdentityInterface, Merge\n",
    "from nipype.interfaces.io import FreeSurferSource, SelectFiles, DataSink\n",
    "from nipype.algorithms.rapidart import ArtifactDetect\n",
    "from nipype.interfaces.ants import ApplyTransforms\n",
    "from nipype.algorithms.misc import Gunzip\n",
    "from nipype.pipeline.engine import Workflow, Node, MapNode\n",
    "from nipype.interfaces.spm import (Realign, Smooth)\n",
    "import nipype.interfaces.spm as spm\n",
    "from nipype.interfaces.ants import Registration\n",
    "from nipype.interfaces.fsl import Info\n",
    "from nipype.interfaces.c3 import C3dAffineTool"
   ]
  },
  {
   "cell_type": "code",
   "execution_count": 2,
   "metadata": {},
   "outputs": [],
   "source": [
    "# SPM standalone\n",
    "matlab_cmd = '/usr/local/spm12/run_spm12.sh /usr/local/MATLAB/MATLAB_Compiler_Runtime/v713 script'\n",
    "spm.SPMCommand.set_mlab_paths(matlab_cmd=matlab_cmd, use_mcr=True)"
   ]
  },
  {
   "cell_type": "code",
   "execution_count": 3,
   "metadata": {},
   "outputs": [],
   "source": [
    "# FreeSurfer - Specify the location of the freesurfer folder\n",
    "fs_dir = '/home/mirjam/Desktop/Masterarbeit/NC2U_BIDS/derivatives/derivatives/mindboggle/freesurfer_subjects' # placeholder!\n",
    "FSCommand.set_default_subjects_dir(fs_dir)"
   ]
  },
  {
   "cell_type": "markdown",
   "metadata": {},
   "source": [
    "## specify parameters"
   ]
  },
  {
   "cell_type": "code",
   "execution_count": 9,
   "metadata": {},
   "outputs": [],
   "source": [
    "experiment_dir = '/home/mirjam/Desktop/Masterarbeit/NC2U_BIDS/' # location of experiment folder\n",
    "subject_list = ['sub-01'] # create the subject_list variable\n",
    "\n",
    "output_dir = 'derivatives/preprocessing/output_preproc' # name of output folder\n",
    "working_dir = 'derivatives/preprocessing/working_preproc' # name of working directory\n",
    "\n",
    "number_of_slices = 25   # number of slices in volume\n",
    "TR = 1.5    # time of repetition of volume\n",
    "fwhm_size = 2 # smoothing kernel\n",
    "iso_size= 2.5\n"
   ]
  },
  {
   "cell_type": "markdown",
   "metadata": {},
   "source": [
    "## Import Data using SelectFiles"
   ]
  },
  {
   "cell_type": "code",
   "execution_count": 10,
   "metadata": {
    "scrolled": true
   },
   "outputs": [],
   "source": [
    "# Infosource - a function free node to iterate over the list of subject names\n",
    "infosource = Node(IdentityInterface(fields=['subject_id']),\n",
    "                  name=\"infosource\")\n",
    "infosource.iterables = [('subject_id', subject_list)]\n",
    "\n",
    "# SelectFiles - to grab the data (alternativ to DataGrabber)\n",
    "templates = {'func': '{subject_id}/func/{subject_id}_task-NC2U_run-*_bold.nii.gz', # epi images\n",
    "             'funcwh': '{subject_id}/func/{subject_id}_task-NC2UWH_bold.nii.gz', # t2 whole brain images\n",
    "             'anat': 'derivatives/derivatives/mindboggle/freesurfer_subjects/{subject_id}/mri/brain.mgz', # anatomical images\n",
    "             'aparc_aseg': 'derivatives/derivatives/mindboggle/freesurfer_subjects/{subject_id}/mri/aparc+aseg.mgz',\n",
    "             'brainmask': 'derivatives/derivatives/mindboggle/freesurfer_subjects/{subject_id}/mri/brainmask.mgz',\n",
    "             'ribbon': 'derivatives/derivatives/mindboggle/freesurfer_subjects/{subject_id}/mri/ribbon.mgz'}\n",
    "            # use templates to create mask of temporal lobe\n",
    "selectfiles = Node(SelectFiles(templates,\n",
    "                                base_directory=experiment_dir),\n",
    "                   name=\"selectfiles\")\n",
    "\n",
    "# Datasink - creates output folder for important outputs\n",
    "datasink = Node(DataSink(base_directory=experiment_dir,\n",
    "                         container=output_dir),\n",
    "                name=\"datasink\")\n"
   ]
  },
  {
   "cell_type": "markdown",
   "metadata": {},
   "source": [
    "# create and specify nodes\n",
    "## realignment, artifact detection, unzipping, coregistration, smoothing"
   ]
  },
  {
   "cell_type": "code",
   "execution_count": 11,
   "metadata": {},
   "outputs": [],
   "source": [
    "## realignment\n",
    "# Realign - correct for motion (epi), we also need the here produced mean for corgestration\n",
    "realignepi = Node(spm.Realign(register_to_mean=True),\n",
    "                   name=\"realignepi\")\n",
    "\n",
    "# Realign - correct for motion (functional whole brain; to gain mean image for coregistration of slab)\n",
    "realignwh = Node(spm.Realign(register_to_mean=True),\n",
    "                   name=\"realignwh\")\n",
    "\n",
    "# BET - Skullstrip realigned functional images\n",
    "BETepi = Node(BET(frac=0.3,\n",
    "                    robust=True,\n",
    "                    output_type='NIFTI_GZ'),\n",
    "                name=\"BETepi\")\n",
    "\n",
    "# BET - Skullstrip realigned functional images\n",
    "BETwh = Node(BET(frac=0.65,\n",
    "                    robust=True,\n",
    "                    output_type='NIFTI_GZ'),\n",
    "                name=\"BETwh\")\n",
    "\n",
    "## Artifact Detection - determine which of the images in the functional series\n",
    "# are outliers. This is based on deviation in intensity or movement.\n",
    "art = Node(ArtifactDetect(norm_threshold=1,\n",
    "                          zintensity_threshold=3,\n",
    "                          mask_type='file',\n",
    "                          parameter_source='SPM',\n",
    "                          use_differences=[True, False]),\n",
    "           name=\"art\")\n",
    "\n",
    "## Unzip-Nodes\n",
    "# Gunzip - unzip the functinal image (epi)\n",
    "gunzip = MapNode(Gunzip(), name=\"gunzip\", iterfield=['in_file'])\n",
    "\n",
    "# Gunzip - unzip the functinal image (t2 whole brain)\n",
    "gunzipwh = MapNode(Gunzip(), name=\"gunzipwh\", iterfield=['in_file'])\n",
    "\n",
    "# mriconvert - transforms .mgz-files to nii.gz.-files\n",
    "mriconvert = Node(MRIConvert(), name='mriconvert')\n",
    "\n",
    "## Coregistration\n",
    "# FLIRT - coregister epi slab to whole brain\n",
    "coreg_epi = Node(FLIRT(dof=6,\n",
    "                      cost='leastsq',\n",
    "                      output_type='NIFTI_GZ'),\n",
    "                name='coreg_epi')\n",
    "\n",
    "# FLIRT - coregister whole brain to anatomical\n",
    "coreg_wh = Node(FLIRT(dof=6,\n",
    "                       cost='mutualinfo',\n",
    "                       bins=256,\n",
    "                       output_type='NIFTI_GZ'),\n",
    "                 name=\"coreg_wh\")\n",
    "\n",
    "# Convert the coreg_epi transformation to ANTS ITK format\n",
    "convert2itk_epi = Node(C3dAffineTool(fsl2ras=True,\n",
    "                                 itk_transform=True),\n",
    "                   name='convert2itk_epi')\n",
    "\n",
    "# Convert the coreg_wh transformation to ANTS ITK format\n",
    "convert2itk_wh = Node(C3dAffineTool(fsl2ras=True,\n",
    "                                 itk_transform=True),\n",
    "                   name='convert2itk_wh')\n",
    "\n",
    "# Concatenate coreg_epi and coreg_wh transforms into a list\n",
    "concat = Node(ConvertXFM(concat_xfm=True),\n",
    "                    name='concat')\n",
    "\n",
    "# Apply coregistration warp to functional images\n",
    "applywarp = MapNode(FLIRT(interp='spline',\n",
    "                       apply_isoxfm=iso_size,\n",
    "                       output_type='NIFTI',\n",
    "                       datatype ='short'),\n",
    "                 name=\"applywarp\", iterfield=['in_file'])\n",
    "\n",
    "# Apply coregistration warp to mean file\n",
    "applywarp_mean = Node(FLIRT(interp='spline',\n",
    "                            apply_isoxfm=iso_size,\n",
    "                            output_type='NIFTI_GZ'),\n",
    "                 name=\"applywarp_mean\")\n",
    "\n",
    "# Smooth - to smooth the images with a given kernel\n",
    "smooth = Node(Smooth(fwhm=fwhm_size),\n",
    "              name=\"smooth\")"
   ]
  },
  {
   "cell_type": "markdown",
   "metadata": {},
   "source": [
    "## nodes for temporal lobe mask"
   ]
  },
  {
   "cell_type": "code",
   "execution_count": null,
   "metadata": {},
   "outputs": [],
   "source": [
    "# Binarize node - creates a binary map of the temporal lobe\n",
    "binarizeTemporalLobe = Node(Binarize(out_type='nii.gz',\n",
    "                                       match = [1015, 2015, # middletemporal (aparc+aseg labels)\n",
    "                                                1030, 2030, # superiortemporal (aparc+aseg labels)\n",
    "                                                1001, 2001, # bankssts\n",
    "                                                1034, 2034, # transversetemporal (Heschls Gyrus)\n",
    "                                                1035, 2035], # insula\n",
    "                                       binary_file='binarized_temporal_lobe.nii.gz'), # output file\n",
    "                            name='binarizeTemporalLobe')\n",
    "\n",
    "# MRIConvert - to unzip output files (because we have an nii.gz file as output above)\n",
    "mriconvert_temporal_mask = Node(MRIConvert(out_type='nii'),\n",
    "                                 name='mriconvert_temporal_mask')\n",
    "\n",
    "# transform anatomical mask (binary) to functional space\n",
    "applyVolTrans_temporal_mask = Node(ApplyVolTransform(reg_header=True,\n",
    "                                                      interp='nearest'),\n",
    "                                    name='applyVolTrans_temporal_mask')\n",
    "\n",
    "# Dilate node - dilates the binary brain mask\n",
    "dilate_temporal_mask = Node(Binarize(dilate=1,\n",
    "                                      min=0.5),\n",
    "                              name='dilate_temporal_mask')\n",
    "\n",
    "# Binarize node - binarizes mask again after transformation and saves it as an .nii file\n",
    "binarizeDilatedTemporalMask = Node(Binarize(min=0.1, binary_file='dilated_temporal_mask.nii'),\n",
    "                                   name='binarizeDilatedTemporalMask')\n",
    "\n",
    "# mean functional mask to adjust temporal lobe mask so no more non-gray-matter-voxel will be included\n",
    "# meanfuncmask - create a whole brain mask from the mean functional based on FSL's robust BET \n",
    "meanfuncmask = Node(interface=BET(mask=True,\n",
    "                                  no_output=False,\n",
    "                                  frac=0.3,\n",
    "                                  robust=True,\n",
    "                                  output_type='NIFTI',\n",
    "                                  out_file='meanfunc'),\n",
    "                       name='meanfuncmask')\n",
    "\n",
    "# combine temporal mask and meanfuncmask \n",
    "aparc_robust_BET_mask = MapNode(interface=ImageMaths(suffix='_ribbon_robust_BET',\n",
    "                                               op_string='-mas', output_type='NIFTI', out_file='aparc_robust_BET.nii'),\n",
    "                                               iterfield=['in_file'],\n",
    "                                  name='aparc_robust_BET_mask')\n"
   ]
  },
  {
   "cell_type": "markdown",
   "metadata": {},
   "source": [
    "#  function to plot realign parameters"
   ]
  },
  {
   "cell_type": "code",
   "execution_count": null,
   "metadata": {},
   "outputs": [],
   "source": [
    "# plot realign parameters\n",
    "def plot_realign_parameters(subject_id, realigned_files):\n",
    "\n",
    "    # Import necessary modules\n",
    "    from os.path import join as opj \n",
    "    import numpy\n",
    "    import matplotlib.pyplot as plt\n",
    "    import glob\n",
    "\n",
    "    experiment_dir = '/home/mirjam/Desktop/Masterarbeit/NC2U_BIDS/' # path to your experiment directory\n",
    "    working_dir = 'working_preproc' # path to the working directory\n",
    "    # Load the estimated parameters\n",
    "    list_realign_parameter_files=glob.glob(opj(experiment_dir, working_dir, \"preproc_nc2u\", \"subject_id_\"+subject_id, \"realign\", \"*.txt\"))\n",
    "    \n",
    "        \n",
    "    plot_realign_parameters=[]\n",
    "    for realign_file in list_realign_parameter_files:\n",
    "    \n",
    "        movement=numpy.loadtxt(realign_file)\n",
    "    \n",
    "        plt.figure(figsize=(10,8))\n",
    "        \n",
    "        plt.axhline(0, color='red')\n",
    "        \n",
    "        # Create the plots with matplotlib\n",
    "        plt.subplot(211)\n",
    "        plt.title('translation')\n",
    "        plt.ylabel('in mm')\n",
    "        plt.plot(movement[:,0], label='x')\n",
    "        plt.plot(movement[:,1], label='y')\n",
    "        plt.plot(movement[:,2], label='z')\n",
    "        \n",
    "        plt.legend(loc='best', fancybox=True)\n",
    "        \n",
    "        plt.axhline(0, color='red', alpha=0.5)\n",
    "        \n",
    "        plt.subplot(212)\n",
    "        plt.title('rotation')\n",
    "        plt.ylabel('in degrees')\n",
    "        plt.plot(movement[:,3], label='pitch')\n",
    "        plt.plot(movement[:,4], label='roll')\n",
    "        plt.plot(movement[:,5], label='yaw')\n",
    "        \n",
    "        plt.legend(loc='best', fancybox=True)\n",
    "        \n",
    "        plt.axhline(0, color='red', alpha=0.5)\n",
    "\n",
    "        plot_realign_parameters=plt.tight_layout()\n",
    "        \n",
    "        plt.savefig(opj(experiment_dir, working_dir, \"preproc_nc2u\" \"subject_id_\"+subject_id, \"realign\", realign_file+\".png\"), bbox_inches='tight')\n",
    "        \n",
    "    return plot_realign_parameters\n",
    "    \n",
    "# plot realing parameters - plot realignment parameters and save it later on\n",
    "plot_realign_parameters = Node(Function(input_names=['subject_id', 'realigned_files'],\n",
    "                               output_names=['plot_realign_parameters'],\n",
    "                               function=plot_realign_parameters),\n",
    "                      name='plot_realign_parameters')"
   ]
  },
  {
   "cell_type": "markdown",
   "metadata": {},
   "source": [
    "# create and connect preprocessing workflow"
   ]
  },
  {
   "cell_type": "code",
   "execution_count": null,
   "metadata": {},
   "outputs": [],
   "source": [
    "# Create a preprocessing workflow\n",
    "preproc_nc2u = Workflow(name='preproc_nc2u')\n",
    "preproc_nc2u.base_dir = opj(experiment_dir, working_dir)\n",
    "\n",
    "# Connect all components of the preprocessing workflow - aparc / ribbon mask \n",
    "preproc_nc2u.connect([(gunzip, realignepi, [('out_file', 'in_files')]), # send unzipped files to realignment node (epi)\n",
    "                 (gunzipwh, realignwh, [('out_file', 'in_files')]), # send unzipped files to realignment node (t2 wh)\n",
    "                 (realignepi, BETepi, [('mean_image', 'in_file')]), # skullstrip realigned epi\n",
    "                 (realignwh, BETwh, [('mean_image', 'in_file')]), # skullstrip realigned t2 whole brain\n",
    "                 # coregistration\n",
    "                 (BETepi, coreg_epi, [('out_file', 'in_file')]), # coregister epi slab to t2 whole brain \n",
    "                 (BETwh, coreg_epi, [('out_file', 'reference')]), # coregister epi slab to t2 whole brain\n",
    "                 (BETwh, coreg_wh, [('out_file', 'in_file')]), # coregister t2 whole brain to anatomical brain.mgz\n",
    "                 (mriconvert, coreg_wh, [('out_file', 'reference')]),\n",
    "                 # concat transform matrizes\n",
    "                 (coreg_epi, concat, [('out_matrix_file', 'in_file')]),\n",
    "                 (coreg_wh, concat, [('out_matrix_file', 'in_file2')]),\n",
    "                 # apply coregistration\n",
    "                 (concat, applywarp_mean, [('out_file', 'in_matrix_file')]),\n",
    "                 (BETepi, applywarp_mean, [('out_file', 'in_file')]),\n",
    "                 (mriconvert, applywarp_mean, [('out_file', 'reference')]),\n",
    "                 (concat, applywarp, [('out_file', 'in_matrix_file')]),\n",
    "                 (mriconvert, applywarp, [('out_file', 'reference')]),\n",
    "                 # smoothing, artifact detection, plot realign parameters\n",
    "                 (applywarp, smooth, [('out_file', 'in_files')]), # send applywarped files to smooth node\n",
    "                 (realignepi, art, [('realigned_files', 'realigned_files')]),\n",
    "                 (realignepi, art, [('mean_image', 'mask_file'),\n",
    "                                 ('realignment_parameters', 'realignment_parameters')]),\n",
    "                 (realignepi, plot_realign_parameters, [('realigned_files', 'realigned_files')]), # send realign files / parameters to plot realignment parameters node\n",
    "                 # temporal mask     \n",
    "                 (binarizeTemporalLobe, mriconvert_temporal_mask, [('binary_file', 'in_file')]), # convert ribbon file (temporal mask) to nifti\n",
    "                 (mriconvert_temporal_mask, applyVolTrans_temporal_mask,[('out_file','source_file')]), # transform ribbon file (temporal mask) to functional space\n",
    "                 (realignepi, applyVolTrans_temporal_mask, [('mean_image', 'target_file')]),\n",
    "                 (applyVolTrans_temporal_mask, dilate_temporal_mask, [('transformed_file', 'in_file')]), # dilate transformed ribbon file (temporal mask)\n",
    "                 (dilate_temporal_mask, binarizeDilatedTemporalMask, [('binary_file', 'in_file')]), # binarize dilated and transformed ribbon file (temporal mask)\n",
    "                 # complete mask\n",
    "                 (realignepi, meanfuncmask, [('mean_image', 'in_file')]), # create a skull stripped mask image from the mean functional\n",
    "                 (meanfuncmask, aparc_robust_BET_mask, [('mask_file', 'in_file')]), # create a combined mask from ribbon file (cortical mask) and robust_BET mask\n",
    "                 (binarizeDilatedTemporalMask, aparc_robust_BET_mask, [('binary_file', 'in_file2')])\n",
    "                  ])"
   ]
  },
  {
   "cell_type": "code",
   "execution_count": null,
   "metadata": {},
   "outputs": [],
   "source": [
    "# Connect infosource, selectfiles and datasink to the preprocessing workflow\n",
    "preproc_nc2u.connect([(infosource, selectfiles, [('subject_id', 'subject_id')]),\n",
    "                  (selectfiles, gunzip, [('func', 'in_file')]),\n",
    "                  (selectfiles, applywarp, [('func', 'in_file')]),\n",
    "                  (selectfiles, gunzipwh, [('funcwh', 'in_file')]),\n",
    "                  (selectfiles, mriconvert, [('anat', 'in_file')]),\n",
    "                  (selectfiles, binarizeTemporalLobe, [('aparc_aseg', 'in_file')]),\n",
    "                  (realignepi, datasink, [('mean_image', 'realign.@mean'),\n",
    "                                           ('realignment_parameters', 'realign.@parameters')]),\n",
    "                       \n",
    "                  (art, datasink,     [('outlier_files', 'art.@outliers'),\n",
    "                                       ('plot_files', 'art.@plot')]),\n",
    "                      \n",
    "                  (coreg_epi, datasink, [('out_file','coreg_epi.@out_file'),\n",
    "                                        ('out_matrix_file','coreg_epi.@out_matrix_file'),\n",
    "                                        ('out_log', 'coreg_epi.@out_log')]),\n",
    "                  (coreg_wh, datasink, [('out_file','coreg_wh.@out_file'),\n",
    "                                         ('out_matrix_file','coreg_wh.@out_matrix_file'),\n",
    "                                         ('out_log', 'coreg_wh.@out_log')]),\n",
    "                  (applywarp, datasink, [('out_file','applywarp.@out_file'),\n",
    "                                        ('out_matrix_file','applywarp.@out_matrix_file'),\n",
    "                                        ('out_log', 'applywarp.@out_log')]),\n",
    "                  (applywarp_mean, datasink, [('out_file','applywarp_mean.@out_file'),\n",
    "                                        ('out_matrix_file','applywarp_mean.@out_matrix_file'),\n",
    "                                        ('out_log', 'applywarp_mean.@out_log')]),\n",
    "                  (mriconvert, datasink, [('out_file', 'mriconvert.@out_file')]),\n",
    "                  (BETepi, datasink, [('out_file', 'BETepi.@out_file')]),\n",
    "                  (BETwh, datasink, [('out_file', 'BETwh.@out_file')]),\n",
    "                  (smooth, datasink, [('smoothed_files', 'smooth.@smoothed_files')]),\n",
    "                  (binarizeDilatedTemporalMask, datasink,   [('binary_file', 'masks.@binarized_dilated_temporal_mask')]),\n",
    "                  (aparc_robust_BET_mask, datasink, [('out_file', 'masks.@aparc_robust_BET_mask')]),\n",
    "                  (infosource, plot_realign_parameters, [('subject_id','subject_id')]),\n",
    "                  ])"
   ]
  },
  {
   "cell_type": "markdown",
   "metadata": {},
   "source": [
    "# visualization"
   ]
  },
  {
   "cell_type": "code",
   "execution_count": null,
   "metadata": {},
   "outputs": [],
   "source": [
    "%matplotlib inline\n",
    "# Create a colored pipeline graph\n",
    "preproc_nc2u.write_graph(graph2use='colored',format='png', simple_form=True)"
   ]
  },
  {
   "cell_type": "code",
   "execution_count": null,
   "metadata": {
    "scrolled": true
   },
   "outputs": [],
   "source": [
    "# Visualize the graph\n",
    "from IPython.display import Image\n",
    "Image('/home/mirjam/Desktop/Masterarbeit/NC2U_BIDS/derivatives/preprocessing/working_preproc/preproc_nc2u/graph.png')\n",
    "#Image(filename=opj(preproc_nc2u.base_dir, 'preproc_nc2u', 'graph.dot.png'))"
   ]
  },
  {
   "cell_type": "code",
   "execution_count": null,
   "metadata": {
    "scrolled": true
   },
   "outputs": [],
   "source": [
    "# Create a detailed pipeline graph\n",
    "preproc_nc2u.write_graph(graph2use='flat',format='png', simple_form=True)\n",
    "\n",
    "# Visualize the graph\n",
    "from IPython.display import Image\n",
    "Image('/home/mirjam/Desktop/Masterarbeit/NC2U_BIDS/derivatives/preprocessing/working_preproc/preproc_nc2u/graph_detailed.png')"
   ]
  },
  {
   "cell_type": "markdown",
   "metadata": {},
   "source": [
    "# run workflow"
   ]
  },
  {
   "cell_type": "code",
   "execution_count": null,
   "metadata": {
    "scrolled": true
   },
   "outputs": [],
   "source": [
    "#### run the workflow using multiple cores ####\n",
    "preproc_nc2u.run('MultiProc', plugin_args={'n_procs':2})\n",
    "#preproc_nc2u.run()"
   ]
  }
 ],
 "metadata": {
  "kernelspec": {
   "display_name": "Python 3",
   "language": "python",
   "name": "python3"
  },
  "language_info": {
   "codemirror_mode": {
    "name": "ipython",
    "version": 3
   },
   "file_extension": ".py",
   "mimetype": "text/x-python",
   "name": "python",
   "nbconvert_exporter": "python",
   "pygments_lexer": "ipython3",
   "version": "3.6.4"
  }
 },
 "nbformat": 4,
 "nbformat_minor": 2
}
