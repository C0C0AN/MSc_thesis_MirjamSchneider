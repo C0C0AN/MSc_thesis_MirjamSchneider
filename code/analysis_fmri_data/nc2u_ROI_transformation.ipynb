{
 "cells": [
  {
   "cell_type": "markdown",
   "metadata": {},
   "source": [
    "# ALPACA-inspired ROI transformation\n",
    "performs an inverse transformation (from MNI reference to participant's native space) of auditory cortex\n",
    "ROIs extracted from publicly available atlases"
   ]
  },
  {
   "cell_type": "code",
   "execution_count": 1,
   "metadata": {},
   "outputs": [
    {
     "name": "stderr",
     "output_type": "stream",
     "text": [
      "/home/mirjam/anaconda3/lib/python3.6/site-packages/h5py/__init__.py:36: FutureWarning: Conversion of the second argument of issubdtype from `float` to `np.floating` is deprecated. In future, it will be treated as `np.float64 == np.dtype(float).type`.\n",
      "  from ._conv import register_converters as _register_converters\n"
     ]
    }
   ],
   "source": [
    "##### Import important modules #####\n",
    "\n",
    "from os.path import join as opj\n",
    "from nipype.interfaces.ants import ApplyTransforms\n",
    "from nipype.interfaces.freesurfer import FSCommand, Binarize, Label2Label\n",
    "from nipype.interfaces.utility import Function, IdentityInterface, Merge\n",
    "from nipype.interfaces.io import SelectFiles, FreeSurferSource, DataSink\n",
    "from nipype.pipeline.engine import Workflow, Node, MapNode"
   ]
  },
  {
   "cell_type": "code",
   "execution_count": 2,
   "metadata": {},
   "outputs": [],
   "source": [
    "# FreeSurfer - Specify the location of the freesurfer folder\n",
    "fs_dir = '/home/mirjam/Desktop/Masterarbeit/NC2U_BIDS/derivatives/derivatives/mindboggle/freesurfer_subjects'\n",
    "FSCommand.set_default_subjects_dir(fs_dir)"
   ]
  },
  {
   "cell_type": "markdown",
   "metadata": {},
   "source": [
    "# Specify variables"
   ]
  },
  {
   "cell_type": "code",
   "execution_count": 23,
   "metadata": {},
   "outputs": [],
   "source": [
    "##### Specify important variables #####\n",
    "\n",
    "experiment_dir = '/home/mirjam/Desktop/Masterarbeit/NC2U_BIDS' # location of experiment folder\n",
    "input_dir_preproc = '/home/mirjam/Desktop/Masterarbeit/NC2U_BIDS/derivatives/preprocessing/output_preproc' # name of preprocessing output folder\n",
    "input_dir_reg = '/home/mirjam/Desktop/Masterarbeit/NC2U_BIDS/derivatives/preprocessing/output_reg' # name of registration output folder\n",
    "input_dir_ROI = '/home/mirjam/Desktop/Masterarbeit/NC2U_BIDS/derivatives/harvard-oxford_ROIs' # location of ROI folder\n",
    "\n",
    "subject_list = ['sub-00'] # create the subject_list variable\n",
    "\n",
    "output_dir = 'plum/output_inverse_transform_ROIs'  # name of norm output folder\n",
    "working_dir = 'plum/workingdir_inverse_transform_ROIs'  # name of norm working directory"
   ]
  },
  {
   "cell_type": "markdown",
   "metadata": {},
   "source": [
    "# Specify Nodes"
   ]
  },
  {
   "cell_type": "code",
   "execution_count": 24,
   "metadata": {},
   "outputs": [],
   "source": [
    "# Transform the volumetric ROIs to the target space\n",
    "inverse_transform_rois = MapNode(ApplyTransforms(args='--float',\n",
    "                                  input_image_type=3,\n",
    "                                  interpolation='Linear',\n",
    "                                  invert_transform_flags=[False],\n",
    "                                  num_threads=1,\n",
    "                                  terminal_output='file'),\n",
    "                  name='inverse_transform_rois', iterfield=['input_image'])"
   ]
  },
  {
   "cell_type": "markdown",
   "metadata": {},
   "source": [
    "# Specify input and output stream"
   ]
  },
  {
   "cell_type": "code",
   "execution_count": 25,
   "metadata": {},
   "outputs": [],
   "source": [
    "# Infosource - a function free node to iterate over the list of subject names\n",
    "infosource = Node(IdentityInterface(fields=['subject_id']),\n",
    "                  name=\"infosource\")\n",
    "infosource.iterables = [('subject_id', subject_list)]\n",
    "\n",
    "# SelectFiles - to grab the data (alternativ to DataGrabber)\n",
    "inverse_transform_composite = opj(input_dir_reg, 'registrationtemp', '_subject_id_{subject_id}', 'transformInverseComposite.h5')\n",
    "target = opj(input_dir_preproc, 'mriconvert', '_subject_id_{subject_id}', 'brain_out.nii.gz')\n",
    "ROIs = opj(input_dir_ROI, '*.nii.gz')\n",
    "#havox_HG_l = opj(input_dir_ROI, '/harvard_oxford_HG_l.nii.gz')\n",
    "#havox_HG_r = opj(input_dir_ROI, '/harvard_oxford_HG_r.nii.gz')\n",
    "#havox_STGa_l = opj(input_dir_ROI, '/harvard_oxford_STGa_l.nii.gz')\n",
    "#havox_STGa_r = opj(input_dir_ROI, '/harvard_oxford_STGa_r.nii.gz')\n",
    "#havox_STGp_l = opj(input_dir_ROI, '/harvard_oxford_STGp_l.nii.gz')\n",
    "#havox_STGp_r = opj(input_dir_ROI, '/harvard_oxford_STGp_r.nii.gz')\n",
    "\n",
    "templates = {'inverse_transform_composite' : inverse_transform_composite,\n",
    "             'target': target,\n",
    "             'ROIs' : ROIs\n",
    "             #'havox_HG_l' : havox_HG_l,\n",
    "             #'havox_HG_r' : havox_HG_r,\n",
    "             #'havox_STGa_l' : havox_STGa_l,\n",
    "             #'havox_STGa_r' : havox_STGa_r,\n",
    "             #'havox_STGp_l' : havox_STGp_l,\n",
    "             #'havox_STGp_r' : havox_STGp_r\n",
    "            }\n",
    "\n",
    "selectfiles = Node(SelectFiles(templates,\n",
    "                               base_directory=experiment_dir),\n",
    "                   name=\"selectfiles\")\n",
    "\n",
    "# Datasink - creates output folder for important outputs\n",
    "datasink = Node(DataSink(base_directory=experiment_dir,\n",
    "                         container=output_dir),\n",
    "                name=\"datasink\")\n",
    "\n",
    "# Use the following DataSink output substitutions\n",
    "substitutions = [('_subject_id_', ''),\n",
    "                 ('_apply2con', 'apply2con'),\n",
    "                 ('_warpall', 'warpall'),\n",
    "                 ('_mask_', '')]\n",
    "datasink.inputs.substitutions = substitutions"
   ]
  },
  {
   "cell_type": "markdown",
   "metadata": {},
   "source": [
    "# initiate workflow and connect nodes"
   ]
  },
  {
   "cell_type": "code",
   "execution_count": 26,
   "metadata": {},
   "outputs": [],
   "source": [
    "# Initiation of the inverse transform ROIs workflow\n",
    "inverse_ROI_flow = Workflow(name='inverse_ROI_flow')\n",
    "inverse_ROI_flow.base_dir = opj(experiment_dir, working_dir)\n",
    "\n",
    "# Connect SelectFiles and DataSink to the workflow\n",
    "inverse_ROI_flow.connect([(infosource, selectfiles, [('subject_id', 'subject_id')]),\n",
    "                  (selectfiles, inverse_transform_rois, [('ROIs', 'input_image')]),\n",
    "                  (selectfiles, inverse_transform_rois, [('target', 'reference_image')]),\n",
    "                  (selectfiles, inverse_transform_rois, [('inverse_transform_composite', 'transforms')]),\n",
    "                          \n",
    "                  (inverse_transform_rois, datasink, [('output_image', 'inverse_transform_rois.@roitransform')]),\n",
    "                         ])"
   ]
  },
  {
   "cell_type": "markdown",
   "metadata": {},
   "source": [
    "# visualize the pipeline"
   ]
  },
  {
   "cell_type": "code",
   "execution_count": 27,
   "metadata": {},
   "outputs": [
    {
     "name": "stdout",
     "output_type": "stream",
     "text": [
      "180806-11:36:42,372 workflow INFO:\n",
      "\t Generated workflow graph: /home/mirjam/Desktop/Masterarbeit/NC2U_BIDS/plum/workingdir_inverse_transform_ROIs/inverse_ROI_flow/graph.png (graph2use=colored, simple_form=True).\n",
      "180806-11:36:42,571 workflow INFO:\n",
      "\t Generated workflow graph: /home/mirjam/Desktop/Masterarbeit/NC2U_BIDS/plum/workingdir_inverse_transform_ROIs/inverse_ROI_flow/graph.png (graph2use=flat, simple_form=True).\n"
     ]
    },
    {
     "data": {
      "text/plain": [
       "'/home/mirjam/Desktop/Masterarbeit/NC2U_BIDS/plum/workingdir_inverse_transform_ROIs/inverse_ROI_flow/graph.png'"
      ]
     },
     "execution_count": 27,
     "metadata": {},
     "output_type": "execute_result"
    }
   ],
   "source": [
    "# Create a colored output graph\n",
    "inverse_ROI_flow.write_graph(graph2use='colored',format='png', simple_form=True)\n",
    "\n",
    "# Create a detailed output graph\n",
    "inverse_ROI_flow.write_graph(graph2use='flat',format='png', simple_form=True)"
   ]
  },
  {
   "cell_type": "markdown",
   "metadata": {},
   "source": [
    "# run workflow"
   ]
  },
  {
   "cell_type": "code",
   "execution_count": 28,
   "metadata": {
    "scrolled": true
   },
   "outputs": [
    {
     "name": "stdout",
     "output_type": "stream",
     "text": [
      "180806-11:36:45,732 workflow INFO:\n",
      "\t Workflow inverse_ROI_flow settings: ['check', 'execution', 'logging', 'monitoring']\n",
      "180806-11:36:45,799 workflow INFO:\n",
      "\t Running in parallel.\n",
      "180806-11:36:45,814 workflow INFO:\n",
      "\t [MultiProc] Running 0 tasks, and 1 jobs ready. Free memory (GB): 10.45/10.45, Free processors: 4/4.\n",
      "180806-11:36:45,880 workflow INFO:\n",
      "\t [Node] Setting-up \"inverse_ROI_flow.selectfiles\" in \"/home/mirjam/Desktop/Masterarbeit/NC2U_BIDS/plum/workingdir_inverse_transform_ROIs/inverse_ROI_flow/_subject_id_sub-00/selectfiles\".\n",
      "180806-11:36:45,888 workflow INFO:\n",
      "\t [Node] Running \"selectfiles\" (\"nipype.interfaces.io.SelectFiles\")\n",
      "180806-11:36:45,937 workflow WARNING:\n",
      "\t [Node] Error on \"inverse_ROI_flow.selectfiles\" (/home/mirjam/Desktop/Masterarbeit/NC2U_BIDS/plum/workingdir_inverse_transform_ROIs/inverse_ROI_flow/_subject_id_sub-00/selectfiles)\n",
      "180806-11:36:47,817 workflow ERROR:\n",
      "\t Node selectfiles.a0 failed to run on host mirjam-X556UQK.\n",
      "180806-11:36:47,821 workflow ERROR:\n",
      "\t Saving crash info to /home/mirjam/Desktop/Masterarbeit/Auswertung/preprocessing_fmri/crash-20180806-113647-mirjam-selectfiles.a0-e76b73b5-d699-478a-bda8-e97c71a5da28.pklz\n",
      "Traceback (most recent call last):\n",
      "  File \"/home/mirjam/anaconda3/lib/python3.6/site-packages/nipype/pipeline/plugins/multiproc.py\", line 68, in run_node\n",
      "    result['result'] = node.run(updatehash=updatehash)\n",
      "  File \"/home/mirjam/anaconda3/lib/python3.6/site-packages/nipype/pipeline/engine/nodes.py\", line 487, in run\n",
      "    result = self._run_interface(execute=True)\n",
      "  File \"/home/mirjam/anaconda3/lib/python3.6/site-packages/nipype/pipeline/engine/nodes.py\", line 571, in _run_interface\n",
      "    return self._run_command(execute)\n",
      "  File \"/home/mirjam/anaconda3/lib/python3.6/site-packages/nipype/pipeline/engine/nodes.py\", line 650, in _run_command\n",
      "    result = self._interface.run(cwd=outdir)\n",
      "  File \"/home/mirjam/anaconda3/lib/python3.6/site-packages/nipype/interfaces/base/core.py\", line 517, in run\n",
      "    outputs = self.aggregate_outputs(runtime)\n",
      "  File \"/home/mirjam/anaconda3/lib/python3.6/site-packages/nipype/interfaces/base/core.py\", line 591, in aggregate_outputs\n",
      "    predicted_outputs = self._list_outputs()\n",
      "  File \"/home/mirjam/anaconda3/lib/python3.6/site-packages/nipype/interfaces/io.py\", line 1406, in _list_outputs\n",
      "    raise IOError(msg)\n",
      "OSError: No files were found matching inverse_transform_composite template: /home/mirjam/Desktop/Masterarbeit/NC2U_BIDS/derivatives/preprocessing/output_reg/registrationtemp/_subject_id_sub-00/transformInverseComposite.h5\n",
      "\n",
      "180806-11:36:47,834 workflow INFO:\n",
      "\t [MultiProc] Running 0 tasks, and 0 jobs ready. Free memory (GB): 10.45/10.45, Free processors: 4/4.\n",
      "180806-11:36:49,812 workflow INFO:\n",
      "\t ***********************************\n",
      "180806-11:36:49,815 workflow ERROR:\n",
      "\t could not run node: inverse_ROI_flow.selectfiles.a0\n",
      "180806-11:36:49,817 workflow INFO:\n",
      "\t crashfile: /home/mirjam/Desktop/Masterarbeit/Auswertung/preprocessing_fmri/crash-20180806-113647-mirjam-selectfiles.a0-e76b73b5-d699-478a-bda8-e97c71a5da28.pklz\n",
      "180806-11:36:49,821 workflow INFO:\n",
      "\t ***********************************\n"
     ]
    },
    {
     "ename": "RuntimeError",
     "evalue": "Workflow did not execute cleanly. Check log for details",
     "output_type": "error",
     "traceback": [
      "\u001b[0;31m---------------------------------------------------------------------------\u001b[0m",
      "\u001b[0;31mRuntimeError\u001b[0m                              Traceback (most recent call last)",
      "\u001b[0;32m<ipython-input-28-93e804b43ff9>\u001b[0m in \u001b[0;36m<module>\u001b[0;34m()\u001b[0m\n\u001b[1;32m      1\u001b[0m \u001b[0;31m#### run the workflow using multiple cores ####\u001b[0m\u001b[0;34m\u001b[0m\u001b[0;34m\u001b[0m\u001b[0m\n\u001b[0;32m----> 2\u001b[0;31m \u001b[0minverse_ROI_flow\u001b[0m\u001b[0;34m.\u001b[0m\u001b[0mrun\u001b[0m\u001b[0;34m(\u001b[0m\u001b[0;34m'MultiProc'\u001b[0m\u001b[0;34m,\u001b[0m \u001b[0mplugin_args\u001b[0m\u001b[0;34m=\u001b[0m\u001b[0;34m{\u001b[0m\u001b[0;34m'n_procs'\u001b[0m\u001b[0;34m:\u001b[0m\u001b[0;36m4\u001b[0m\u001b[0;34m}\u001b[0m\u001b[0;34m)\u001b[0m\u001b[0;34m\u001b[0m\u001b[0m\n\u001b[0m",
      "\u001b[0;32m~/anaconda3/lib/python3.6/site-packages/nipype/pipeline/engine/workflows.py\u001b[0m in \u001b[0;36mrun\u001b[0;34m(self, plugin, plugin_args, updatehash)\u001b[0m\n\u001b[1;32m    600\u001b[0m         \u001b[0;32mif\u001b[0m \u001b[0mstr2bool\u001b[0m\u001b[0;34m(\u001b[0m\u001b[0mself\u001b[0m\u001b[0;34m.\u001b[0m\u001b[0mconfig\u001b[0m\u001b[0;34m[\u001b[0m\u001b[0;34m'execution'\u001b[0m\u001b[0;34m]\u001b[0m\u001b[0;34m[\u001b[0m\u001b[0;34m'create_report'\u001b[0m\u001b[0;34m]\u001b[0m\u001b[0;34m)\u001b[0m\u001b[0;34m:\u001b[0m\u001b[0;34m\u001b[0m\u001b[0m\n\u001b[1;32m    601\u001b[0m             \u001b[0mself\u001b[0m\u001b[0;34m.\u001b[0m\u001b[0m_write_report_info\u001b[0m\u001b[0;34m(\u001b[0m\u001b[0mself\u001b[0m\u001b[0;34m.\u001b[0m\u001b[0mbase_dir\u001b[0m\u001b[0;34m,\u001b[0m \u001b[0mself\u001b[0m\u001b[0;34m.\u001b[0m\u001b[0mname\u001b[0m\u001b[0;34m,\u001b[0m \u001b[0mexecgraph\u001b[0m\u001b[0;34m)\u001b[0m\u001b[0;34m\u001b[0m\u001b[0m\n\u001b[0;32m--> 602\u001b[0;31m         \u001b[0mrunner\u001b[0m\u001b[0;34m.\u001b[0m\u001b[0mrun\u001b[0m\u001b[0;34m(\u001b[0m\u001b[0mexecgraph\u001b[0m\u001b[0;34m,\u001b[0m \u001b[0mupdatehash\u001b[0m\u001b[0;34m=\u001b[0m\u001b[0mupdatehash\u001b[0m\u001b[0;34m,\u001b[0m \u001b[0mconfig\u001b[0m\u001b[0;34m=\u001b[0m\u001b[0mself\u001b[0m\u001b[0;34m.\u001b[0m\u001b[0mconfig\u001b[0m\u001b[0;34m)\u001b[0m\u001b[0;34m\u001b[0m\u001b[0m\n\u001b[0m\u001b[1;32m    603\u001b[0m         \u001b[0mdatestr\u001b[0m \u001b[0;34m=\u001b[0m \u001b[0mdatetime\u001b[0m\u001b[0;34m.\u001b[0m\u001b[0mutcnow\u001b[0m\u001b[0;34m(\u001b[0m\u001b[0;34m)\u001b[0m\u001b[0;34m.\u001b[0m\u001b[0mstrftime\u001b[0m\u001b[0;34m(\u001b[0m\u001b[0;34m'%Y%m%dT%H%M%S'\u001b[0m\u001b[0;34m)\u001b[0m\u001b[0;34m\u001b[0m\u001b[0m\n\u001b[1;32m    604\u001b[0m         \u001b[0;32mif\u001b[0m \u001b[0mstr2bool\u001b[0m\u001b[0;34m(\u001b[0m\u001b[0mself\u001b[0m\u001b[0;34m.\u001b[0m\u001b[0mconfig\u001b[0m\u001b[0;34m[\u001b[0m\u001b[0;34m'execution'\u001b[0m\u001b[0;34m]\u001b[0m\u001b[0;34m[\u001b[0m\u001b[0;34m'write_provenance'\u001b[0m\u001b[0;34m]\u001b[0m\u001b[0;34m)\u001b[0m\u001b[0;34m:\u001b[0m\u001b[0;34m\u001b[0m\u001b[0m\n",
      "\u001b[0;32m~/anaconda3/lib/python3.6/site-packages/nipype/pipeline/plugins/base.py\u001b[0m in \u001b[0;36mrun\u001b[0;34m(self, graph, config, updatehash)\u001b[0m\n\u001b[1;32m    196\u001b[0m \u001b[0;34m\u001b[0m\u001b[0m\n\u001b[1;32m    197\u001b[0m         \u001b[0mself\u001b[0m\u001b[0;34m.\u001b[0m\u001b[0m_remove_node_dirs\u001b[0m\u001b[0;34m(\u001b[0m\u001b[0;34m)\u001b[0m\u001b[0;34m\u001b[0m\u001b[0m\n\u001b[0;32m--> 198\u001b[0;31m         \u001b[0mreport_nodes_not_run\u001b[0m\u001b[0;34m(\u001b[0m\u001b[0mnotrun\u001b[0m\u001b[0;34m)\u001b[0m\u001b[0;34m\u001b[0m\u001b[0m\n\u001b[0m\u001b[1;32m    199\u001b[0m \u001b[0;34m\u001b[0m\u001b[0m\n\u001b[1;32m    200\u001b[0m         \u001b[0;31m# close any open resources\u001b[0m\u001b[0;34m\u001b[0m\u001b[0;34m\u001b[0m\u001b[0m\n",
      "\u001b[0;32m~/anaconda3/lib/python3.6/site-packages/nipype/pipeline/plugins/tools.py\u001b[0m in \u001b[0;36mreport_nodes_not_run\u001b[0;34m(notrun)\u001b[0m\n\u001b[1;32m     76\u001b[0m                 \u001b[0mlogger\u001b[0m\u001b[0;34m.\u001b[0m\u001b[0mdebug\u001b[0m\u001b[0;34m(\u001b[0m\u001b[0msubnode\u001b[0m\u001b[0;34m.\u001b[0m\u001b[0m_id\u001b[0m\u001b[0;34m)\u001b[0m\u001b[0;34m\u001b[0m\u001b[0m\n\u001b[1;32m     77\u001b[0m         \u001b[0mlogger\u001b[0m\u001b[0;34m.\u001b[0m\u001b[0minfo\u001b[0m\u001b[0;34m(\u001b[0m\u001b[0;34m\"***********************************\"\u001b[0m\u001b[0;34m)\u001b[0m\u001b[0;34m\u001b[0m\u001b[0m\n\u001b[0;32m---> 78\u001b[0;31m         raise RuntimeError(('Workflow did not execute cleanly. '\n\u001b[0m\u001b[1;32m     79\u001b[0m                             'Check log for details'))\n\u001b[1;32m     80\u001b[0m \u001b[0;34m\u001b[0m\u001b[0m\n",
      "\u001b[0;31mRuntimeError\u001b[0m: Workflow did not execute cleanly. Check log for details"
     ]
    }
   ],
   "source": [
    "#### run the workflow using multiple cores ####\n",
    "inverse_ROI_flow.run('MultiProc', plugin_args={'n_procs':4})"
   ]
  }
 ],
 "metadata": {
  "kernelspec": {
   "display_name": "Python 3",
   "language": "python",
   "name": "python3"
  },
  "language_info": {
   "codemirror_mode": {
    "name": "ipython",
    "version": 3
   },
   "file_extension": ".py",
   "mimetype": "text/x-python",
   "name": "python",
   "nbconvert_exporter": "python",
   "pygments_lexer": "ipython3",
   "version": "3.6.4"
  }
 },
 "nbformat": 4,
 "nbformat_minor": 2
}
