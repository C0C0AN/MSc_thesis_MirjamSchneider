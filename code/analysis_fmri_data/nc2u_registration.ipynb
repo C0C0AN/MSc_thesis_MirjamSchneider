{
 "cells": [
  {
   "cell_type": "markdown",
   "metadata": {},
   "source": [
    "# separte workflow for coregistration of anatomical image to mni template"
   ]
  },
  {
   "cell_type": "code",
   "execution_count": 1,
   "metadata": {},
   "outputs": [
    {
     "name": "stderr",
     "output_type": "stream",
     "text": [
      "/home/mirjam/anaconda3/lib/python3.6/site-packages/h5py/__init__.py:36: FutureWarning: Conversion of the second argument of issubdtype from `float` to `np.floating` is deprecated. In future, it will be treated as `np.float64 == np.dtype(float).type`.\n",
      "  from ._conv import register_converters as _register_converters\n"
     ]
    }
   ],
   "source": [
    "# import modules\n",
    "from os.path import join as opj\n",
    "import os\n",
    "from nipype.interfaces.utility import Function, IdentityInterface\n",
    "from nipype.interfaces.io import FreeSurferSource, SelectFiles, DataSink\n",
    "from nipype.pipeline.engine import Workflow, Node, MapNode\n",
    "from nipype.interfaces.ants import Registration\n",
    "from nipype.interfaces.fsl import Info, BET"
   ]
  },
  {
   "cell_type": "code",
   "execution_count": 2,
   "metadata": {},
   "outputs": [],
   "source": [
    "experiment_dir = '/home/mirjam/Desktop/Masterarbeit/NC2U_BIDS/' # location of experiment folder\n",
    "subject_list = ['sub-00'] # create the subject_list variable\n",
    "# run_list = ['1', '2', '3', '4', '5', '6', '7', '8']\n",
    "\n",
    "output_dir = 'output_reg' # name of output folder\n",
    "working_dir = 'working_reg' # name of working directory\n",
    "\n",
    "number_of_slices = 25   # number of slices in volume\n",
    "TR = 1.5    # time of repetition of volume\n",
    "fwhm_size = 2 # smoothing kernel\n",
    "\n",
    "# location of template file for coregistration to mni template (full path needed, error otherwise)\n",
    "template = Info.standard_image('/home/mirjam/Desktop/Masterarbeit/Auswertung/mni_icbm152_nlin_asym_09c/1mm_T1.nii.gz')"
   ]
  },
  {
   "cell_type": "code",
   "execution_count": 3,
   "metadata": {},
   "outputs": [],
   "source": [
    "# SelectFiles - to grab the data (alternativ to DataGrabber)\n",
    "templates = {'anat': 'derivatives/derivatives/mindboggle/freesurfer_subjects/{subject_id}/mri/brain.mgz'} # anatomical images\n",
    "        \n",
    "selectfiles = Node(SelectFiles(templates,\n",
    "                                base_directory=experiment_dir),\n",
    "                   name=\"selectfiles\")\n",
    "\n",
    "# Infosource - a function free node to iterate over the list of subject names\n",
    "infosource = Node(IdentityInterface(fields=['subject_id']),\n",
    "                  name=\"infosource\")\n",
    "infosource.iterables = [('subject_id', subject_list)]\n",
    "\n",
    "\n",
    "# Datasink - creates output folder for important outputs\n",
    "datasink = Node(DataSink(base_directory=experiment_dir,\n",
    "                         container=output_dir),\n",
    "                name=\"datasink\")"
   ]
  },
  {
   "cell_type": "code",
   "execution_count": 4,
   "metadata": {},
   "outputs": [],
   "source": [
    "# BET - Skullstrip mask Image\n",
    "bet_temp = Node(BET(frac=0.5,\n",
    "                    robust=True,\n",
    "                    in_file=template,\n",
    "                    output_type='NIFTI_GZ'),\n",
    "                name=\"bet_temp\")\n",
    "\n",
    "# antsRegistration - coregister t1 on mni template\n",
    "registrationtemp = Node(Registration(args='--float',\n",
    "                            collapse_output_transforms=True,\n",
    "                            initial_moving_transform_com=True,   # no additional connection in workflow needed\n",
    "                            num_threads=4,\n",
    "                            output_inverse_warped_image=True,\n",
    "                            output_warped_image=True,\n",
    "                            sigma_units=['vox']*3,\n",
    "                            transforms=['Rigid', 'Affine', 'SyN'],\n",
    "                            terminal_output='file',\n",
    "                            winsorize_lower_quantile=0.005,\n",
    "                            winsorize_upper_quantile=0.995,\n",
    "                            convergence_threshold=[1e-06],\n",
    "                            convergence_window_size=[10],\n",
    "                            metric=['MI', 'MI', 'CC'],\n",
    "                            metric_weight=[1.0]*3,\n",
    "                            number_of_iterations=[[1000, 500, 250, 100],\n",
    "                                                  [1000, 500, 250, 100],\n",
    "                                                  [100, 70, 50, 20]],\n",
    "                            radius_or_number_of_bins=[32, 32, 4],\n",
    "                            sampling_percentage=[0.25, 0.25, 1],\n",
    "                            sampling_strategy=['Regular',\n",
    "                                               'Regular',\n",
    "                                               'None'],\n",
    "                            shrink_factors=[[8, 4, 2, 1]]*3,\n",
    "                            smoothing_sigmas=[[3, 2, 1, 0]]*3,\n",
    "                            transform_parameters=[(0.1,),\n",
    "                                                  (0.1,),\n",
    "                                                  (0.1, 3.0, 0.0)],\n",
    "                            use_histogram_matching=True,\n",
    "                            write_composite_transform=True),\n",
    "               name='registrationtemp')"
   ]
  },
  {
   "cell_type": "code",
   "execution_count": 8,
   "metadata": {},
   "outputs": [],
   "source": [
    "# Create a preprocessing workflow\n",
    "reg_nc2u = Workflow(name='reg_nc2u')\n",
    "reg_nc2u.base_dir = opj(experiment_dir, working_dir)\n",
    "\n",
    "# Connect all components of the preprocessing workflow - aparc / ribbon mask \n",
    "reg_nc2u.connect([(infosource, selectfiles, [('subject_id', 'subject_id')]),\n",
    "                  (selectfiles, registrationtemp, [('anat', 'moving_image')]),\n",
    "                  (bet_temp, registrationtemp, [('out_file', 'fixed_image')]),\n",
    "                  (registrationtemp, datasink, [('warped_image', 'registrationtemp.@warped_image'),\n",
    "                                                ('inverse_warped_image', 'registrationtemp.@inverse_warped_image'),\n",
    "                                                ('inverse_composite_transform', 'registrationtemp.@inverse_composite_transform'),\n",
    "                                                ('composite_transform', 'registrationtemp.@composite_transform')]),\n",
    "                      ])"
   ]
  },
  {
   "cell_type": "code",
   "execution_count": 24,
   "metadata": {
    "scrolled": true
   },
   "outputs": [
    {
     "name": "stdout",
     "output_type": "stream",
     "text": [
      "180717-16:55:28,871 workflow INFO:\n",
      "\t Workflow reg_nc2u settings: ['check', 'execution', 'logging', 'monitoring']\n",
      "180717-16:55:28,883 workflow INFO:\n",
      "\t Running in parallel.\n",
      "180717-16:55:28,886 workflow INFO:\n",
      "\t [MultiProc] Running 0 tasks, and 2 jobs ready. Free memory (GB): 10.45/10.45, Free processors: 4/4.\n",
      "180717-16:55:28,949 workflow INFO:\n",
      "\t [Node] Outdated cache found for \"reg_nc2u.selectfiles\".\n",
      "180717-16:55:28,951 workflow INFO:\n",
      "\t [Job 1] Cached (reg_nc2u.bet_mask).\n",
      "180717-16:55:28,951 workflow INFO:\n",
      "\t [Node] Setting-up \"reg_nc2u.selectfiles\" in \"/home/mirjam/Desktop/Masterarbeit/NC2U_BIDS/working_reg/reg_nc2u/_subject_id_sub-00/selectfiles\".\n",
      "180717-16:55:28,959 workflow INFO:\n",
      "\t [Node] Outdated cache found for \"reg_nc2u.selectfiles\".\n",
      "180717-16:55:28,974 workflow INFO:\n",
      "\t [Node] Running \"selectfiles\" (\"nipype.interfaces.io.SelectFiles\")\n",
      "180717-16:55:28,988 workflow INFO:\n",
      "\t [Node] Finished \"reg_nc2u.selectfiles\".\n",
      "180717-16:55:30,898 workflow INFO:\n",
      "\t [Job 0] Completed (reg_nc2u.selectfiles).\n",
      "180717-16:55:30,909 workflow INFO:\n",
      "\t [MultiProc] Running 0 tasks, and 1 jobs ready. Free memory (GB): 10.45/10.45, Free processors: 4/4.\n",
      "180717-16:55:31,13 workflow INFO:\n",
      "\t [Node] Outdated cache found for \"reg_nc2u.registrationtemp\".\n",
      "180717-16:55:31,18 workflow INFO:\n",
      "\t [Node] Setting-up \"reg_nc2u.registrationtemp\" in \"/home/mirjam/Desktop/Masterarbeit/NC2U_BIDS/working_reg/reg_nc2u/_subject_id_sub-00/registrationtemp\".\n",
      "180717-16:55:31,29 workflow INFO:\n",
      "\t [Node] Outdated cache found for \"reg_nc2u.registrationtemp\".\n",
      "180717-16:55:31,62 workflow INFO:\n",
      "\t [Node] Running \"registrationtemp\" (\"nipype.interfaces.ants.registration.Registration\"), a CommandLine Interface with command:\n",
      "antsRegistration --float --collapse-output-transforms 1 --dimensionality 3 --initial-moving-transform [ /home/mirjam/Desktop/Masterarbeit/NC2U_BIDS/working_reg/reg_nc2u/bet_mask/1mm_T1_brain.nii.gz, /home/mirjam/Desktop/Masterarbeit/NC2U_BIDS/derivatives/derivatives/mindboggle/freesurfer_subjects/sub-00/mri/brain.mgz, 1 ] --initialize-transforms-per-stage 0 --interpolation Linear --output [ transform, transform_Warped.nii.gz, transform_InverseWarped.nii.gz ] --transform Rigid[ 0.1 ] --metric MI[ /home/mirjam/Desktop/Masterarbeit/NC2U_BIDS/working_reg/reg_nc2u/bet_mask/1mm_T1_brain.nii.gz, /home/mirjam/Desktop/Masterarbeit/NC2U_BIDS/derivatives/derivatives/mindboggle/freesurfer_subjects/sub-00/mri/brain.mgz, 1, 32, Regular, 0.25 ] --convergence [ 1000x500x250x100, 1e-06, 10 ] --smoothing-sigmas 3.0x2.0x1.0x0.0vox --shrink-factors 8x4x2x1 --use-histogram-matching 1 --transform Affine[ 0.1 ] --metric MI[ /home/mirjam/Desktop/Masterarbeit/NC2U_BIDS/working_reg/reg_nc2u/bet_mask/1mm_T1_brain.nii.gz, /home/mirjam/Desktop/Masterarbeit/NC2U_BIDS/derivatives/derivatives/mindboggle/freesurfer_subjects/sub-00/mri/brain.mgz, 1, 32, Regular, 0.25 ] --convergence [ 1000x500x250x100, 1e-06, 10 ] --smoothing-sigmas 3.0x2.0x1.0x0.0vox --shrink-factors 8x4x2x1 --use-histogram-matching 1 --transform SyN[ 0.1, 3.0, 0.0 ] --metric CC[ /home/mirjam/Desktop/Masterarbeit/NC2U_BIDS/working_reg/reg_nc2u/bet_mask/1mm_T1_brain.nii.gz, /home/mirjam/Desktop/Masterarbeit/NC2U_BIDS/derivatives/derivatives/mindboggle/freesurfer_subjects/sub-00/mri/brain.mgz, 1, 4, None, 1 ] --convergence [ 100x70x50x20, 1e-06, 10 ] --smoothing-sigmas 3.0x2.0x1.0x0.0vox --shrink-factors 8x4x2x1 --use-histogram-matching 1 --winsorize-image-intensities [ 0.005, 0.995 ]  --write-composite-transform 1\n",
      "180717-16:55:32,905 workflow INFO:\n",
      "\t [MultiProc] Running 1 tasks, and 0 jobs ready. Free memory (GB): 10.25/10.45, Free processors: 0/4.\n",
      "                     Currently running:\n",
      "                       * reg_nc2u.registrationtemp\n"
     ]
    },
    {
     "name": "stderr",
     "output_type": "stream",
     "text": [
      "Process NonDaemonPoolWorker-27:\n",
      "Process NonDaemonPoolWorker-30:\n",
      "Process NonDaemonPoolWorker-29:\n",
      "Traceback (most recent call last):\n",
      "Traceback (most recent call last):\n",
      "  File \"/home/mirjam/anaconda3/lib/python3.6/multiprocessing/process.py\", line 258, in _bootstrap\n",
      "    self.run()\n",
      "  File \"/home/mirjam/anaconda3/lib/python3.6/multiprocessing/process.py\", line 258, in _bootstrap\n",
      "    self.run()\n",
      "  File \"/home/mirjam/anaconda3/lib/python3.6/multiprocessing/process.py\", line 93, in run\n",
      "    self._target(*self._args, **self._kwargs)\n",
      "  File \"/home/mirjam/anaconda3/lib/python3.6/multiprocessing/process.py\", line 93, in run\n",
      "    self._target(*self._args, **self._kwargs)\n",
      "  File \"/home/mirjam/anaconda3/lib/python3.6/multiprocessing/pool.py\", line 108, in worker\n",
      "    task = get()\n",
      "Traceback (most recent call last):\n",
      "  File \"/home/mirjam/anaconda3/lib/python3.6/multiprocessing/queues.py\", line 334, in get\n",
      "    with self._rlock:\n",
      "  File \"/home/mirjam/anaconda3/lib/python3.6/multiprocessing/process.py\", line 258, in _bootstrap\n",
      "    self.run()\n",
      "  File \"/home/mirjam/anaconda3/lib/python3.6/multiprocessing/synchronize.py\", line 96, in __enter__\n",
      "    return self._semlock.__enter__()\n",
      "  File \"/home/mirjam/anaconda3/lib/python3.6/multiprocessing/pool.py\", line 108, in worker\n",
      "    task = get()\n",
      "  File \"/home/mirjam/anaconda3/lib/python3.6/multiprocessing/process.py\", line 93, in run\n",
      "    self._target(*self._args, **self._kwargs)\n",
      "  File \"/home/mirjam/anaconda3/lib/python3.6/multiprocessing/queues.py\", line 335, in get\n",
      "    res = self._reader.recv_bytes()\n",
      "KeyboardInterrupt\n",
      "  File \"/home/mirjam/anaconda3/lib/python3.6/multiprocessing/connection.py\", line 216, in recv_bytes\n",
      "    buf = self._recv_bytes(maxlength)\n",
      "  File \"/home/mirjam/anaconda3/lib/python3.6/multiprocessing/connection.py\", line 407, in _recv_bytes\n",
      "    buf = self._recv(4)\n",
      "  File \"/home/mirjam/anaconda3/lib/python3.6/multiprocessing/connection.py\", line 379, in _recv\n",
      "    chunk = read(handle, remaining)\n",
      "KeyboardInterrupt\n",
      "  File \"/home/mirjam/anaconda3/lib/python3.6/multiprocessing/pool.py\", line 108, in worker\n",
      "    task = get()\n",
      "  File \"/home/mirjam/anaconda3/lib/python3.6/multiprocessing/queues.py\", line 334, in get\n",
      "    with self._rlock:\n",
      "  File \"/home/mirjam/anaconda3/lib/python3.6/multiprocessing/synchronize.py\", line 96, in __enter__\n",
      "    return self._semlock.__enter__()\n",
      "KeyboardInterrupt\n"
     ]
    },
    {
     "ename": "KeyboardInterrupt",
     "evalue": "",
     "output_type": "error",
     "traceback": [
      "\u001b[0;31m---------------------------------------------------------------------------\u001b[0m",
      "\u001b[0;31mKeyboardInterrupt\u001b[0m                         Traceback (most recent call last)",
      "\u001b[0;32m<ipython-input-24-a55740a830b8>\u001b[0m in \u001b[0;36m<module>\u001b[0;34m()\u001b[0m\n\u001b[1;32m      1\u001b[0m \u001b[0;31m#### run the workflow using multiple cores ####\u001b[0m\u001b[0;34m\u001b[0m\u001b[0;34m\u001b[0m\u001b[0m\n\u001b[0;32m----> 2\u001b[0;31m \u001b[0mreg_nc2u\u001b[0m\u001b[0;34m.\u001b[0m\u001b[0mrun\u001b[0m\u001b[0;34m(\u001b[0m\u001b[0;34m'MultiProc'\u001b[0m\u001b[0;34m,\u001b[0m \u001b[0mplugin_args\u001b[0m\u001b[0;34m=\u001b[0m\u001b[0;34m{\u001b[0m\u001b[0;34m'n_procs'\u001b[0m\u001b[0;34m:\u001b[0m\u001b[0;36m4\u001b[0m\u001b[0;34m}\u001b[0m\u001b[0;34m)\u001b[0m\u001b[0;34m\u001b[0m\u001b[0m\n\u001b[0m",
      "\u001b[0;32m~/anaconda3/lib/python3.6/site-packages/nipype/pipeline/engine/workflows.py\u001b[0m in \u001b[0;36mrun\u001b[0;34m(self, plugin, plugin_args, updatehash)\u001b[0m\n\u001b[1;32m    600\u001b[0m         \u001b[0;32mif\u001b[0m \u001b[0mstr2bool\u001b[0m\u001b[0;34m(\u001b[0m\u001b[0mself\u001b[0m\u001b[0;34m.\u001b[0m\u001b[0mconfig\u001b[0m\u001b[0;34m[\u001b[0m\u001b[0;34m'execution'\u001b[0m\u001b[0;34m]\u001b[0m\u001b[0;34m[\u001b[0m\u001b[0;34m'create_report'\u001b[0m\u001b[0;34m]\u001b[0m\u001b[0;34m)\u001b[0m\u001b[0;34m:\u001b[0m\u001b[0;34m\u001b[0m\u001b[0m\n\u001b[1;32m    601\u001b[0m             \u001b[0mself\u001b[0m\u001b[0;34m.\u001b[0m\u001b[0m_write_report_info\u001b[0m\u001b[0;34m(\u001b[0m\u001b[0mself\u001b[0m\u001b[0;34m.\u001b[0m\u001b[0mbase_dir\u001b[0m\u001b[0;34m,\u001b[0m \u001b[0mself\u001b[0m\u001b[0;34m.\u001b[0m\u001b[0mname\u001b[0m\u001b[0;34m,\u001b[0m \u001b[0mexecgraph\u001b[0m\u001b[0;34m)\u001b[0m\u001b[0;34m\u001b[0m\u001b[0m\n\u001b[0;32m--> 602\u001b[0;31m         \u001b[0mrunner\u001b[0m\u001b[0;34m.\u001b[0m\u001b[0mrun\u001b[0m\u001b[0;34m(\u001b[0m\u001b[0mexecgraph\u001b[0m\u001b[0;34m,\u001b[0m \u001b[0mupdatehash\u001b[0m\u001b[0;34m=\u001b[0m\u001b[0mupdatehash\u001b[0m\u001b[0;34m,\u001b[0m \u001b[0mconfig\u001b[0m\u001b[0;34m=\u001b[0m\u001b[0mself\u001b[0m\u001b[0;34m.\u001b[0m\u001b[0mconfig\u001b[0m\u001b[0;34m)\u001b[0m\u001b[0;34m\u001b[0m\u001b[0m\n\u001b[0m\u001b[1;32m    603\u001b[0m         \u001b[0mdatestr\u001b[0m \u001b[0;34m=\u001b[0m \u001b[0mdatetime\u001b[0m\u001b[0;34m.\u001b[0m\u001b[0mutcnow\u001b[0m\u001b[0;34m(\u001b[0m\u001b[0;34m)\u001b[0m\u001b[0;34m.\u001b[0m\u001b[0mstrftime\u001b[0m\u001b[0;34m(\u001b[0m\u001b[0;34m'%Y%m%dT%H%M%S'\u001b[0m\u001b[0;34m)\u001b[0m\u001b[0;34m\u001b[0m\u001b[0m\n\u001b[1;32m    604\u001b[0m         \u001b[0;32mif\u001b[0m \u001b[0mstr2bool\u001b[0m\u001b[0;34m(\u001b[0m\u001b[0mself\u001b[0m\u001b[0;34m.\u001b[0m\u001b[0mconfig\u001b[0m\u001b[0;34m[\u001b[0m\u001b[0;34m'execution'\u001b[0m\u001b[0;34m]\u001b[0m\u001b[0;34m[\u001b[0m\u001b[0;34m'write_provenance'\u001b[0m\u001b[0;34m]\u001b[0m\u001b[0;34m)\u001b[0m\u001b[0;34m:\u001b[0m\u001b[0;34m\u001b[0m\u001b[0m\n",
      "\u001b[0;32m~/anaconda3/lib/python3.6/site-packages/nipype/pipeline/plugins/base.py\u001b[0m in \u001b[0;36mrun\u001b[0;34m(self, graph, config, updatehash)\u001b[0m\n\u001b[1;32m    193\u001b[0m \u001b[0;34m\u001b[0m\u001b[0m\n\u001b[1;32m    194\u001b[0m             \u001b[0msleep_til\u001b[0m \u001b[0;34m=\u001b[0m \u001b[0mloop_start\u001b[0m \u001b[0;34m+\u001b[0m \u001b[0mpoll_sleep_secs\u001b[0m\u001b[0;34m\u001b[0m\u001b[0m\n\u001b[0;32m--> 195\u001b[0;31m             \u001b[0msleep\u001b[0m\u001b[0;34m(\u001b[0m\u001b[0mmax\u001b[0m\u001b[0;34m(\u001b[0m\u001b[0;36m0\u001b[0m\u001b[0;34m,\u001b[0m \u001b[0msleep_til\u001b[0m \u001b[0;34m-\u001b[0m \u001b[0mtime\u001b[0m\u001b[0;34m(\u001b[0m\u001b[0;34m)\u001b[0m\u001b[0;34m)\u001b[0m\u001b[0;34m)\u001b[0m\u001b[0;34m\u001b[0m\u001b[0m\n\u001b[0m\u001b[1;32m    196\u001b[0m \u001b[0;34m\u001b[0m\u001b[0m\n\u001b[1;32m    197\u001b[0m         \u001b[0mself\u001b[0m\u001b[0;34m.\u001b[0m\u001b[0m_remove_node_dirs\u001b[0m\u001b[0;34m(\u001b[0m\u001b[0;34m)\u001b[0m\u001b[0;34m\u001b[0m\u001b[0m\n",
      "\u001b[0;31mKeyboardInterrupt\u001b[0m: "
     ]
    }
   ],
   "source": [
    "#### run the workflow using multiple cores ####\n",
    "reg_nc2u.run('MultiProc', plugin_args={'n_procs':4})"
   ]
  }
 ],
 "metadata": {
  "kernelspec": {
   "display_name": "Python 3",
   "language": "python",
   "name": "python3"
  },
  "language_info": {
   "codemirror_mode": {
    "name": "ipython",
    "version": 3
   },
   "file_extension": ".py",
   "mimetype": "text/x-python",
   "name": "python",
   "nbconvert_exporter": "python",
   "pygments_lexer": "ipython3",
   "version": "3.6.4"
  }
 },
 "nbformat": 4,
 "nbformat_minor": 2
}
